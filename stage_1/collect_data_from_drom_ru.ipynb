{
  "nbformat": 4,
  "nbformat_minor": 0,
  "metadata": {
    "kernelspec": {
      "display_name": "Python 3",
      "language": "python",
      "name": "python3"
    },
    "language_info": {
      "codemirror_mode": {
        "name": "ipython",
        "version": 2
      },
      "file_extension": ".py",
      "mimetype": "text/x-python",
      "name": "python",
      "nbconvert_exporter": "python",
      "pygments_lexer": "ipython2",
      "version": "2.7.6"
    },
    "colab": {
      "name": "collect_data_from_drom_ru.ipynb",
      "provenance": [],
      "collapsed_sections": []
    }
  },
  "cells": [
    {
      "cell_type": "code",
      "metadata": {
        "collapsed": true,
        "id": "AkrZjuj0P6Gr"
      },
      "source": [
        "import requests\n",
        "from time import sleep\n",
        "from bs4 import BeautifulSoup\n",
        "\n",
        "from tqdm import tqdm\n",
        "\n",
        "import pandas as pd"
      ],
      "execution_count": null,
      "outputs": []
    },
    {
      "cell_type": "code",
      "metadata": {
        "pycharm": {
          "name": "#%%\n"
        },
        "id": "GEjqtqGTP6Gv"
      },
      "source": [
        "WEB_HEADERS = {'authority': 'auto.drom.ru', 'cache-control': 'no-cache',\n",
        "               'upgrade-insecure-requests': '1',\n",
        "               'user-agent': 'Mozilla/5.0 (Windows NT 10.0; Win64; x64) AppleWeb'\n",
        "                             'Kit/537.36 (KHTML, like Gecko) Chrome/96.0.4664.45'\n",
        "                             'Safari/537.36',\n",
        "               'accept': 'text/html,application/xhtml+xml,application/xml;q=0.9,'\n",
        "                         'image/webp,image/apng,*/*;q=0.8,application/signed-'\n",
        "                         'exchange;v=b3;q=0.9',\n",
        "               'sec-fetch-site': 'none', 'sec-fetch-mode': 'navigate',\n",
        "               'sec-fetch-user': '?1', 'sec-fetch-dest': 'document',\n",
        "               'accept-language': 'en-US,en;q=0.9,ru-RU;q=0.8,ru;q=0.7'}"
      ],
      "execution_count": null,
      "outputs": []
    },
    {
      "cell_type": "code",
      "metadata": {
        "pycharm": {
          "name": "#%%\n"
        },
        "id": "uG_sbX_lP6Gw"
      },
      "source": [
        "def html_response(url, headers):\n",
        "    for _ in range(3):\n",
        "        try:\n",
        "            response = requests.get(url, headers=headers)\n",
        "            return response.text\n",
        "        except ConnectionError or TimeoutError or ConnectionResetError:\n",
        "            print(\"\\n*****ConnectionError, TimeoutError or ConnectionResetError*\"\n",
        "                  \"****\\n\\nI will retry again after 7 seconds...\")\n",
        "            sleep(5)\n",
        "            print('Making another request...')\n",
        "\n",
        "\n",
        "def parse_car_page_response(response):\n",
        "    soup = BeautifulSoup(response, 'html.parser')\n",
        "    selling_cars = []\n",
        "    for full_header in soup.find_all('a', class_=\"css-1psewqh ewrty961\", href=True):\n",
        "        split_header = full_header['href']\n",
        "        selling_cars.append(split_header)\n",
        "    return selling_cars"
      ],
      "execution_count": null,
      "outputs": []
    },
    {
      "cell_type": "code",
      "metadata": {
        "pycharm": {
          "name": "#%%\n"
        },
        "id": "vc47Bk3yP6Gw"
      },
      "source": [
        "all_moscow_cars = [['https://moscow.drom.ru/audi/used/all/page', 34], ['https://moscow.drom.ru/bmw/used/all/page', 61],\n",
        "                   ['https://moscow.drom.ru/chevrolet/used/all/page', 24], ['https://moscow.drom.ru/citroen/used/all/page', 10],\n",
        "                   ['https://moscow.drom.ru/dodge/used/all/page', 6], ['https://moscow.drom.ru/ford/used/all/page', 47],\n",
        "                   ['https://moscow.drom.ru/great_wall/used/all/page', 5], ['https://moscow.drom.ru/honda/used/all/page', 16],\n",
        "                   ['https://moscow.drom.ru/hyundai/used/all/page', 85], ['https://moscow.drom.ru/infiniti/used/all/page', 9],\n",
        "                   ['https://moscow.drom.ru/jeep/used/all/page', 6], ['https://moscow.drom.ru/kia/used/all/page', 100],\n",
        "                   ['https://moscow.drom.ru/land_rover/used/all/page', 19], ['https://moscow.drom.ru/lexus/used/all/page', 15],\n",
        "                   ['https://moscow.drom.ru/mazda/used/all/page', 22], ['https://moscow.drom.ru/mercedes-benz/used/all/page', 65],\n",
        "                   ['https://moscow.drom.ru/mitsubishi/used/all/page', 34], ['https://moscow.drom.ru/nissan/used/all/page', 64],\n",
        "                   ['https://moscow.drom.ru/opel/used/all/page', 24], ['https://moscow.drom.ru/peugeot/used/all/page', 11],\n",
        "                   ['https://moscow.drom.ru/porsche/used/all/page', 10], ['https://moscow.drom.ru/renault/used/all/page', 38],\n",
        "                   ['https://moscow.drom.ru/skoda/used/all/page', 43], ['https://moscow.drom.ru/ssang_yong/used/all/page', 7],\n",
        "                   ['https://moscow.drom.ru/subaru/used/all/page', 6], ['https://moscow.drom.ru/suzuki/used/all/page', 11],\n",
        "                   ['https://moscow.drom.ru/toyota/used/all/page', 59], ['https://moscow.drom.ru/volkswagen/used/all/page', 66],\n",
        "                   ['https://moscow.drom.ru/volvo/used/all/page', 21], ['https://moscow.drom.ru/lada/used/all/page', 38],\n",
        "                   ['https://moscow.drom.ru/uaz/used/all/page', 6]]"
      ],
      "execution_count": null,
      "outputs": []
    },
    {
      "cell_type": "code",
      "metadata": {
        "pycharm": {
          "name": "#%%\n"
        },
        "id": "4J_e0YwvP6Gx"
      },
      "source": [
        "links_to_lists_of_all_selling_cars = []\n",
        "\n",
        "for car in all_moscow_cars:\n",
        "  i = 1\n",
        "  while i <= car[1]:\n",
        "    links_to_lists_of_all_selling_cars.append(car[0]+str(i)+'/?unsold=1')\n",
        "    i += 1"
      ],
      "execution_count": null,
      "outputs": []
    },
    {
      "cell_type": "code",
      "metadata": {
        "pycharm": {
          "name": "#%%\n"
        },
        "id": "QsP9m4YLP6Gy",
        "outputId": "a0d7e709-0363-4d44-e856-e5d485022b0c"
      },
      "source": [
        "car_page_response_list = []\n",
        "\n",
        "for selling_cars_for_each_manufacturer in tqdm(links_to_lists_of_all_selling_cars):\n",
        "  car_page_response = html_response(selling_cars_for_each_manufacturer, WEB_HEADERS)\n",
        "  car_page_response_list.append(car_page_response)"
      ],
      "execution_count": null,
      "outputs": [
        {
          "name": "stderr",
          "output_type": "stream",
          "text": [
            "100%|██████████| 962/962 [07:04<00:00,  2.27it/s]\n"
          ]
        }
      ]
    },
    {
      "cell_type": "code",
      "metadata": {
        "pycharm": {
          "name": "#%%\n"
        },
        "id": "A5qkYwIDP6Gz",
        "outputId": "6afded9a-1577-4702-8961-5cfc867ffa5e"
      },
      "source": [
        "links_to_each_page_of_selling_car = []\n",
        "\n",
        "for item in tqdm(car_page_response_list):\n",
        "  links_to_each_page_of_selling_car.append(parse_car_page_response(item))\n",
        "\n",
        "links_to_each_page_of_selling_car = [item for sublist in links_to_each_page_of_selling_car for item in sublist]"
      ],
      "execution_count": null,
      "outputs": [
        {
          "name": "stderr",
          "output_type": "stream",
          "text": [
            "100%|██████████| 962/962 [01:38<00:00,  9.78it/s]\n"
          ]
        }
      ]
    },
    {
      "cell_type": "code",
      "metadata": {
        "pycharm": {
          "name": "#%%\n"
        },
        "id": "mkow0zLZP6G0",
        "outputId": "b51214e3-91f9-456d-feda-fe6715eb15e4"
      },
      "source": [
        "car_data = []\n",
        "\n",
        "for car_link in tqdm(links_to_each_page_of_selling_car):\n",
        "  car_page = html_response(car_link, WEB_HEADERS)\n",
        "\n",
        "  soup = BeautifulSoup(car_page, 'html.parser')\n",
        "\n",
        "  try:\n",
        "    brand = soup.body.h1.find_all_next(string=True)[0].split(', ')[0].replace(\"Продажа \", \"\").split(' ')[0]\n",
        "  except:\n",
        "    brand = \"missing\"\n",
        "\n",
        "  try:\n",
        "    model = soup.body.h1.find_all_next(string=True)[0].split(', ')[0].replace(\"Продажа \", \"\").split(' ')[1]\n",
        "  except:\n",
        "    model = \"missing\"\n",
        "\n",
        "  try:\n",
        "    manufacture_year = soup.body.h1.find_all_next(string=True)[0].split(', ')[1].split(' ')[0]\n",
        "  except:\n",
        "    manufacture_year = \"missing\"\n",
        "\n",
        "  try:\n",
        "    sellers_city = soup.body.h1.find_all_next(string=True)[0].split(', ')[1].split(' ')[-1]\n",
        "  except:\n",
        "    sellers_city = \"missing\"\n",
        "\n",
        "  try:\n",
        "    price = soup.find(\"div\", class_=\"css-1003rx0 e162wx9x0\").text.replace(\"\\xa0\", \"\").replace(\"₽\", \"\")\n",
        "  except:\n",
        "    price = \"missing\"\n",
        "\n",
        "  try:\n",
        "    fuel_type = soup.find(\"span\", class_=\"css-hgkucx e162wx9x0\").text.split(\", \")[0]\n",
        "  except:\n",
        "    fuel_type = \"missing\"\n",
        "\n",
        "  try:\n",
        "    engine_size = soup.find(\"span\", class_=\"css-hgkucx e162wx9x0\").text.split(\", \")[1].replace(\" л\", \"\")\n",
        "  except:\n",
        "    engine_size = \"missing\"\n",
        "\n",
        "  try:\n",
        "    hp_power = soup.find(\"span\", class_=\"css-z7plf3 e162wx9x0\").text.split(\",\\xa0\")[0].replace(\"\\xa0л.с.\", \"\")\n",
        "  except:\n",
        "    hp_power = \"missing\"\n",
        "\n",
        "  try:\n",
        "    gearbox_type = soup.find_all(\"td\", class_=\"css-7whdrf ezjvm5n1\")[2].text\n",
        "  except:\n",
        "    gearbox_type = \"missing\"\n",
        "\n",
        "  try:\n",
        "    transmission_type = soup.find_all(\"td\", class_=\"css-7whdrf ezjvm5n1\")[3].text\n",
        "  except:\n",
        "    transmission_type = \"missing\"\n",
        "\n",
        "  try:\n",
        "    color = soup.find_all(\"td\", class_=\"css-7whdrf ezjvm5n1\")[4].text\n",
        "  except:\n",
        "    color = \"missing\"\n",
        "\n",
        "  try:\n",
        "    mileage = soup.find_all(\"td\", class_=\"css-7whdrf ezjvm5n1\")[5].text.replace(\"\\xa0\", \"\")\n",
        "  except:\n",
        "    mileage = \"missing\"\n",
        "\n",
        "  try:\n",
        "    steering_wheel = soup.find_all(\"td\", class_=\"css-7whdrf ezjvm5n1\")[6].text\n",
        "  except:\n",
        "    steering_wheel = \"missing\"\n",
        "\n",
        "  try:\n",
        "    generation_style = soup.find_all(\"a\", class_=\"css-1n9bvfr e1oy5ngb0\")[0].text\n",
        "  except:\n",
        "    generation_style = \"missing\"\n",
        "\n",
        "  try:\n",
        "    vehicle_configuration = soup.find_all(\"a\", class_=\"css-1n9bvfr e1oy5ngb0\")[1].text\n",
        "  except:\n",
        "    vehicle_configuration = \"missing\"\n",
        "\n",
        "  try:\n",
        "    vechicle_logbook_check = soup.find_all(\"a\", class_=\"css-17f5zdi e1wvjnck0\")[4].text\n",
        "  except:\n",
        "    vechicle_logbook_check = \"missing\"\n",
        "\n",
        "  try:\n",
        "    number_of_records_in_vechicle_logbook = soup.find_all(\"a\", class_=\"css-17f5zdi e1wvjnck0\")[5].text[:2].replace(\" \", \"\")\n",
        "  except:\n",
        "    number_of_records_in_vechicle_logbook = \"missing\"\n",
        "\n",
        "  try:\n",
        "    car_wanted_check = soup.find_all(\"div\", class_=\"css-13qo6o5 ev29ov71\")[2].text\n",
        "  except:\n",
        "    car_wanted_check = \"missing\"\n",
        "\n",
        "  try:\n",
        "    legal_restrictions = soup.find_all(\"div\", class_=\"css-13qo6o5 ev29ov71\")[3].text\n",
        "  except:\n",
        "    legal_restrictions = \"missing\"\n",
        "\n",
        "  try:\n",
        "    publication_date = soup.find(\"div\", class_=\"css-pxeubi evnwjo70\").text[-10:]\n",
        "  except:\n",
        "    publication_date = \"missing\"\n",
        "\n",
        "  try:\n",
        "    number_of_views = soup.find_all(\"div\", class_=\"css-14wh0pm e1lm3vns0\")[0].text\n",
        "  except:\n",
        "    number_of_views = \"missing\"\n",
        "\n",
        "  car_data.append([car_link, brand, model, manufacture_year, sellers_city, price, fuel_type, engine_size, hp_power, gearbox_type,\n",
        "                   transmission_type, color, mileage, steering_wheel, generation_style, vehicle_configuration,\n",
        "                   vechicle_logbook_check, number_of_records_in_vechicle_logbook, car_wanted_check, legal_restrictions,\n",
        "                   publication_date, number_of_views])"
      ],
      "execution_count": null,
      "outputs": [
        {
          "name": "stderr",
          "output_type": "stream",
          "text": [
            "100%|██████████| 18892/18892 [2:40:06<00:00,  1.97it/s]  \n"
          ]
        }
      ]
    },
    {
      "cell_type": "code",
      "metadata": {
        "pycharm": {
          "name": "#%%\n"
        },
        "id": "ZsIjTkoCP6G1"
      },
      "source": [
        "df_cars = pd.DataFrame(car_data, columns=[\"link\", \"brand\", \"model\", \"year_of_manufacture\", \"location\", \"price\", \"fuel_type\", \"engine_size\", \"hp_power\", \"gearbox\",\n",
        "                                       \"transmission\", \"color\", \"mileage\", \"steering_wheel\", \"generation_style\", \"vehicle_config\", \"vechicle_logbook_check\",\n",
        "                                       \"cnt_of_records_in_vechicle_logbook\", \"car_wanted_check\", \"legal_restrictions\", \"publication_date\", \"number_of_views\"])"
      ],
      "execution_count": null,
      "outputs": []
    },
    {
      "cell_type": "code",
      "metadata": {
        "pycharm": {
          "name": "#%%\n"
        },
        "id": "uB86zlcBP6G2"
      },
      "source": [
        "df_cars.to_csv('cars_dom.csv')"
      ],
      "execution_count": null,
      "outputs": []
    }
  ]
}