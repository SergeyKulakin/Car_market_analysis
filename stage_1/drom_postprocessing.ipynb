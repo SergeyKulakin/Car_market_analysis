{
  "nbformat": 4,
  "nbformat_minor": 0,
  "metadata": {
    "colab": {
      "name": "drom_postprocessing.ipynb",
      "provenance": [],
      "collapsed_sections": []
    },
    "kernelspec": {
      "name": "python3",
      "display_name": "Python 3"
    },
    "language_info": {
      "name": "python"
    }
  },
  "cells": [
    {
      "cell_type": "code",
      "metadata": {
        "id": "BydrkiJRPrCL"
      },
      "source": [
        "import pandas as pd\n",
        "import numpy as np"
      ],
      "execution_count": null,
      "outputs": []
    },
    {
      "cell_type": "code",
      "metadata": {
        "id": "6wRSAwBMQQRw"
      },
      "source": [
        "df = pd.read_csv('cars_drom.csv').drop(['Unnamed: 0'], axis=1)"
      ],
      "execution_count": null,
      "outputs": []
    },
    {
      "cell_type": "code",
      "metadata": {
        "colab": {
          "base_uri": "https://localhost:8080/"
        },
        "id": "qjr-cjdaQt1k",
        "outputId": "ca1111d7-92c5-4325-ae4a-82f040eed9a4"
      },
      "source": [
        "df = df[(df['brand'] != \"Запрошенная\") & (df['brand'] != \"missing\")]\n",
        "df['location'] = np.where(df['location'] == \"Москве\", 'Москва', \"Подмосковье\")\n",
        "df = df[df['location'] == \"Москва\"]\n",
        "print(df.shape)"
      ],
      "execution_count": null,
      "outputs": [
        {
          "output_type": "stream",
          "name": "stdout",
          "text": [
            "(18721, 22)\n"
          ]
        },
        {
          "output_type": "stream",
          "name": "stderr",
          "text": [
            "/usr/local/lib/python3.7/dist-packages/ipykernel_launcher.py:2: SettingWithCopyWarning: \n",
            "A value is trying to be set on a copy of a slice from a DataFrame.\n",
            "Try using .loc[row_indexer,col_indexer] = value instead\n",
            "\n",
            "See the caveats in the documentation: https://pandas.pydata.org/pandas-docs/stable/user_guide/indexing.html#returning-a-view-versus-a-copy\n",
            "  \n"
          ]
        }
      ]
    },
    {
      "cell_type": "code",
      "metadata": {
        "id": "rnNL9UZSSG7U"
      },
      "source": [
        "df = df[(df['fuel_type'] == \"бензин\") | (df['fuel_type'] == \"дизель\") | (df['fuel_type'] == \"электро\")]"
      ],
      "execution_count": null,
      "outputs": []
    },
    {
      "cell_type": "code",
      "metadata": {
        "id": "rKJBubF5TCPH"
      },
      "source": [
        "df = df[(df['engine_size'] != \"missing\")]"
      ],
      "execution_count": null,
      "outputs": []
    },
    {
      "cell_type": "code",
      "metadata": {
        "id": "fcKkLUuuTOa3"
      },
      "source": [
        "df = df[(df['hp_power'] != \"missing\")]"
      ],
      "execution_count": null,
      "outputs": []
    },
    {
      "cell_type": "code",
      "metadata": {
        "id": "n8-fSo1nTX0D"
      },
      "source": [
        "df = df[(df['gearbox'] == \"АКПП\") | (df['gearbox'] == \"механика\") | (df['gearbox'] == \"вариатор\")| (df['gearbox'] == \"робот\")| (df['gearbox'] == \"автомат\")]"
      ],
      "execution_count": null,
      "outputs": []
    },
    {
      "cell_type": "code",
      "metadata": {
        "id": "6ulOORWMVtgB"
      },
      "source": [
        "list_incorrect_color = ['седан', 'хэтчбек 5 дв.', 'джип/suv 5 дв.', 'универсал', 'лифтбек', 'хэтчбек 3 дв.', \n",
        "                        'минивэн', 'пикап', 'джип/suv 3 дв.', 'открытый', 'купе']\n",
        "df['color'] = np.where(df['color'].isin(list_incorrect_color), df['mileage'], df['color'])\n",
        "df['color'] = np.where(df['color'] == \"левый\", 'missing', df['color'])\n",
        "\n",
        "list_correct_colors = ['черный', 'белый', 'серый', 'синий', 'серебристый', 'коричневый', \n",
        "                       'красный', 'бежевый', 'зеленый', 'голубой', 'оранжевый', 'фиолетовый', \n",
        "                       'бордовый', 'желтый', 'золотистый', 'missing', 'розовый']\n",
        "df['color'] = np.where(df['color'].isin(list_correct_colors), df['color'], 'missing')"
      ],
      "execution_count": null,
      "outputs": []
    },
    {
      "cell_type": "code",
      "metadata": {
        "id": "ZWx0oUGMbuEq"
      },
      "source": [
        "df['mileage'] = np.where(df['mileage'].isin(list_correct_colors), df['steering_wheel'], df['mileage'])"
      ],
      "execution_count": null,
      "outputs": []
    },
    {
      "cell_type": "code",
      "metadata": {
        "id": "oxg6lE2WcspG"
      },
      "source": [
        "df['steering_wheel'] = np.where(df['mileage'] == \"левый\", df['mileage'], df['steering_wheel'])\n",
        "df['mileage'] = np.where(df['mileage'] == \"левый\", \"missing\", df['mileage'])"
      ],
      "execution_count": null,
      "outputs": []
    },
    {
      "cell_type": "code",
      "metadata": {
        "id": "NfB7x1oSdnjj"
      },
      "source": [
        "list_right_steering_wheel = ['левый', 'правый']\n",
        "\n",
        "df['steering_wheel'] = np.where(df['steering_wheel'].isin(list_right_steering_wheel), df['steering_wheel'], 'missing')"
      ],
      "execution_count": null,
      "outputs": []
    },
    {
      "cell_type": "code",
      "metadata": {
        "id": "zZ6LlS7yfWWr"
      },
      "source": [
        "df['vehicle_config'] = np.where(df['vehicle_config'] == 'missing', df['generation_style'], df['vehicle_config'])"
      ],
      "execution_count": null,
      "outputs": []
    },
    {
      "cell_type": "code",
      "metadata": {
        "id": "-qDS6QWNen9l"
      },
      "source": [
        "list_of_right_generation = ['1 поколение', 'missing', '2 поколение', '3 поколение', \n",
        "                            '1 поколение, рестайлинг', '2 поколение, рестайлинг', \n",
        "                            '4 поколение', '4 поколение, рестайлинг', '3 поколение, рестайлинг', \n",
        "                            '5 поколение', '6 поколение', '5 поколение, рестайлинг', '7 поколение', \n",
        "                            '6 поколение, рестайлинг', '8 поколение', '9 поколение', \n",
        "                            '3 поколение, 2 рестайлинг', '1 поколение, 2 рестайлинг', '10 поколение', \n",
        "                            '7 поколение, рестайлинг', '2 поколение, 2 рестайлинг', \n",
        "                            '4 поколение, 2 рестайлинг', '8 поколение, рестайлинг', '11 поколение', \n",
        "                            '11 поколение, 2 рестайлинг', '11 поколение, рестайлинг', \n",
        "                            '10 поколение, рестайлинг', '9 поколение, 2 рестайлинг', \n",
        "                            '9 поколение, рестайлинг', '3 поколение, 3 рестайлинг', \n",
        "                            '5 поколение, 2 рестайлинг', '2 поколение, 6 рестайлинг', \n",
        "                            '2 поколение, 7 рестайлинг', '12 поколение', '2 поколение, 5 рестайлинг', \n",
        "                            '10 поколение, 2 рестайлинг', '8 поколение, 2 рестайлинг', \n",
        "                            '2 поколение, 4 рестайлинг', '8 поколение, 3 рестайлинг', \n",
        "                            '2 поколение, 3 рестайлинг', '1 поколение, 3 рестайлинг', '13 поколение', \n",
        "                            '14 поколение', '15 поколение']\n",
        "\n",
        "df['generation_style'] = np.where(df['generation_style'].isin(list_of_right_generation), df['generation_style'], 'missing')                        "
      ],
      "execution_count": null,
      "outputs": []
    },
    {
      "cell_type": "code",
      "metadata": {
        "id": "hUi85z54jw9U"
      },
      "source": [
        "list_of_wrong_vehicle_config = [\"10 поколение, 2 рестайлинг\", \"1 поколение\", \"2 поколение\", \n",
        "                                \"3 поколение\", \"1 поколение, рестайлинг\", \"2 поколение, рестайлинг\", \n",
        "                                \"4 поколение\", \"3 поколение, рестайлинг\", \"4 поколение, рестайлинг\", \n",
        "                                \"5 поколение\", \"6 поколение\", \"5 поколение, рестайлинг\", \"7 поколение\", \n",
        "                                \"6 поколение, рестайлинг\", \"8 поколение\", \"3 поколение, 2 рестайлинг\", \n",
        "                                \"1 поколение, 2 рестайлинг\", \"9 поколение\", \"10 поколение\", \n",
        "                                \"2 поколение, 2 рестайлинг\", \"7 поколение, рестайлинг\", \"8 поколение, рестайлинг\", \n",
        "                                \"4 поколение, 2 рестайлинг\", \"11 поколение, 2 рестайлинг\", \"10 поколение, рестайлинг\", \n",
        "                                \"11 поколение, рестайлинг\", \"9 поколение, 2 рестайлинг\", \"3 поколение, 3 рестайлинг\", \n",
        "                                \"11 поколение\", \"5 поколение, 2 рестайлинг\", \"9 поколение, рестайлинг\", \"12 поколение\", \n",
        "                                \"2 поколение, 5 рестайлинг\", \"2 поколение, 7 рестайлинг\"]\n",
        "\n",
        "df['vehicle_config'] = np.where(df['vehicle_config'].isin(list_of_wrong_vehicle_config), 'missing', df['vehicle_config'])  "
      ],
      "execution_count": null,
      "outputs": []
    },
    {
      "cell_type": "code",
      "metadata": {
        "id": "Qz-kOMs7l9NJ"
      },
      "source": [
        "list_of_right_log_check = [\"Характеристики  совпадают с ПТС\", \"Характеристики не совпадают с ПТС\"]\n",
        "\n",
        "df['vechicle_logbook_check'] = np.where(df['vechicle_logbook_check'].isin(list_of_right_log_check), df['vechicle_logbook_check'], 'missing')"
      ],
      "execution_count": null,
      "outputs": []
    },
    {
      "cell_type": "code",
      "metadata": {
        "id": "kHQntYIEmmeO"
      },
      "source": [
        "list_of_wrong_logbook_records = ['Ес', 'Ав', 'Ro', 'КЛ', 'У', 'DO', 'GO', 'ол', 'As']\n",
        "\n",
        "df['cnt_of_records_in_vechicle_logbook'] = np.where(df['cnt_of_records_in_vechicle_logbook'].isin(list_of_wrong_logbook_records), 'missing', df['cnt_of_records_in_vechicle_logbook'])"
      ],
      "execution_count": null,
      "outputs": []
    },
    {
      "cell_type": "code",
      "metadata": {
        "id": "LH7LKwOmnxi_"
      },
      "source": [
        "list_of_legal_restrictions_check = [\"Ограничений не обнаружено\", \"Есть ограничения\", \"Проверяем наличие ограничений\"]\n",
        "\n",
        "df['legal_restrictions'] = np.where(df['legal_restrictions'].isin(list_of_legal_restrictions_check), df['legal_restrictions'], 'missing')"
      ],
      "execution_count": null,
      "outputs": []
    },
    {
      "cell_type": "code",
      "metadata": {
        "id": "jjZA4OrAUcAd"
      },
      "source": [
        "df.to_csv('drom_data_cleared.csv')"
      ],
      "execution_count": null,
      "outputs": []
    },
    {
      "cell_type": "code",
      "metadata": {
        "id": "hffTazA0QoXq"
      },
      "source": [
        ""
      ],
      "execution_count": null,
      "outputs": []
    }
  ]
}