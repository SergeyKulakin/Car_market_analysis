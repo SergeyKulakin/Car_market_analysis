{
  "nbformat": 4,
  "nbformat_minor": 0,
  "metadata": {
    "colab": {
      "name": "Prepare_AvtoRu_Data_for_Analise.ipynb",
      "provenance": [],
      "collapsed_sections": []
    },
    "kernelspec": {
      "name": "python3",
      "display_name": "Python 3"
    },
    "language_info": {
      "name": "python"
    }
  },
  "cells": [
    {
      "cell_type": "markdown",
      "metadata": {
        "id": "MO1w8sjVOooo"
      },
      "source": [
        "## Часть 2 Анализ данных"
      ]
    },
    {
      "cell_type": "code",
      "metadata": {
        "colab": {
          "base_uri": "https://localhost:8080/"
        },
        "id": "-xh-6HwZOE9y",
        "outputId": "6b65c380-4020-4b68-b0ea-68f84d3e2bf6"
      },
      "source": [
        "from google.colab import drive\n",
        "drive.mount('/content/drive')"
      ],
      "execution_count": 1,
      "outputs": [
        {
          "output_type": "stream",
          "name": "stdout",
          "text": [
            "Mounted at /content/drive\n"
          ]
        }
      ]
    },
    {
      "cell_type": "code",
      "metadata": {
        "id": "4Rq2vVxFd8gl"
      },
      "source": [
        "path = '/content/drive/MyDrive/Разведочный анализ/Avtoru.csv'\n",
        "path_to_save = '/content/drive/MyDrive/Разведочный анализ'"
      ],
      "execution_count": 29,
      "outputs": []
    },
    {
      "cell_type": "code",
      "metadata": {
        "id": "JhUVdv-NeO1J"
      },
      "source": [
        "import pandas as pd\n",
        "import seaborn as sns\n",
        "import numpy\n",
        "from matplotlib import pyplot as plt\n",
        "import regex as re"
      ],
      "execution_count": 3,
      "outputs": []
    },
    {
      "cell_type": "code",
      "metadata": {
        "id": "uNLq0RX-eg0C"
      },
      "source": [
        "df = pd.read_csv(path)"
      ],
      "execution_count": 4,
      "outputs": []
    },
    {
      "cell_type": "code",
      "metadata": {
        "colab": {
          "base_uri": "https://localhost:8080/",
          "height": 496
        },
        "id": "akxJjEDLenaX",
        "outputId": "96127c9f-fd27-4754-dcc5-b3eea4f439db"
      },
      "source": [
        "df.head()"
      ],
      "execution_count": 5,
      "outputs": [
        {
          "output_type": "execute_result",
          "data": {
            "text/html": [
              "<div>\n",
              "<style scoped>\n",
              "    .dataframe tbody tr th:only-of-type {\n",
              "        vertical-align: middle;\n",
              "    }\n",
              "\n",
              "    .dataframe tbody tr th {\n",
              "        vertical-align: top;\n",
              "    }\n",
              "\n",
              "    .dataframe thead th {\n",
              "        text-align: right;\n",
              "    }\n",
              "</style>\n",
              "<table border=\"1\" class=\"dataframe\">\n",
              "  <thead>\n",
              "    <tr style=\"text-align: right;\">\n",
              "      <th></th>\n",
              "      <th>name</th>\n",
              "      <th>price</th>\n",
              "      <th>crash</th>\n",
              "      <th>year</th>\n",
              "      <th>run</th>\n",
              "      <th>back</th>\n",
              "      <th>color</th>\n",
              "      <th>engine</th>\n",
              "      <th>tax</th>\n",
              "      <th>transmission</th>\n",
              "      <th>drive</th>\n",
              "      <th>rudder</th>\n",
              "      <th>condition</th>\n",
              "      <th>owners</th>\n",
              "      <th>pasport</th>\n",
              "      <th>customs</th>\n",
              "      <th>cr_date</th>\n",
              "      <th>views</th>\n",
              "      <th>comment</th>\n",
              "    </tr>\n",
              "  </thead>\n",
              "  <tbody>\n",
              "    <tr>\n",
              "      <th>0</th>\n",
              "      <td>Jeep Grand Cherokee IV (WK2) Рестайлинг</td>\n",
              "      <td>4070000.0</td>\n",
              "      <td>Онлайн-показ</td>\n",
              "      <td>2018.0</td>\n",
              "      <td>56500.0</td>\n",
              "      <td>внедорожник 5 дв.</td>\n",
              "      <td>серебристый</td>\n",
              "      <td>3.0 л / 243 л.с. / Дизель</td>\n",
              "      <td>18225.0</td>\n",
              "      <td>автоматическая</td>\n",
              "      <td>полный</td>\n",
              "      <td>Левый</td>\n",
              "      <td>Не требует ремонта</td>\n",
              "      <td>1.0</td>\n",
              "      <td>Оригинал</td>\n",
              "      <td>Растаможен</td>\n",
              "      <td>20 ноября</td>\n",
              "      <td>2482.0</td>\n",
              "      <td>Автомобиль покупался в США комплектация S Limi...</td>\n",
              "    </tr>\n",
              "    <tr>\n",
              "      <th>1</th>\n",
              "      <td>Jeep Grand Cherokee IV (WK2) Рестайлинг</td>\n",
              "      <td>4070000.0</td>\n",
              "      <td>Онлайн-показ</td>\n",
              "      <td>2018.0</td>\n",
              "      <td>56500.0</td>\n",
              "      <td>внедорожник 5 дв.</td>\n",
              "      <td>серебристый</td>\n",
              "      <td>3.0 л / 243 л.с. / Дизель</td>\n",
              "      <td>18225.0</td>\n",
              "      <td>автоматическая</td>\n",
              "      <td>полный</td>\n",
              "      <td>Левый</td>\n",
              "      <td>Не требует ремонта</td>\n",
              "      <td>1.0</td>\n",
              "      <td>Оригинал</td>\n",
              "      <td>Растаможен</td>\n",
              "      <td>20 ноября</td>\n",
              "      <td>2482.0</td>\n",
              "      <td>Автомобиль покупался в США комплектация S Limi...</td>\n",
              "    </tr>\n",
              "    <tr>\n",
              "      <th>2</th>\n",
              "      <td>LADA (ВАЗ) 2107</td>\n",
              "      <td>129000.0</td>\n",
              "      <td>ДТП не найдены</td>\n",
              "      <td>2005.0</td>\n",
              "      <td>77000.0</td>\n",
              "      <td>седан</td>\n",
              "      <td>зелёный</td>\n",
              "      <td>1.6 л / 74 л.с. / Бензин</td>\n",
              "      <td>888.0</td>\n",
              "      <td>механическая</td>\n",
              "      <td>задний</td>\n",
              "      <td>Левый</td>\n",
              "      <td>Не требует ремонта</td>\n",
              "      <td>2.0</td>\n",
              "      <td>Оригинал</td>\n",
              "      <td>Растаможен</td>\n",
              "      <td>23 ноября</td>\n",
              "      <td>553.0</td>\n",
              "      <td>Читаем внимательно.</td>\n",
              "    </tr>\n",
              "    <tr>\n",
              "      <th>3</th>\n",
              "      <td>LADA (ВАЗ) 2107</td>\n",
              "      <td>129000.0</td>\n",
              "      <td>ДТП не найдены</td>\n",
              "      <td>2005.0</td>\n",
              "      <td>77000.0</td>\n",
              "      <td>седан</td>\n",
              "      <td>зелёный</td>\n",
              "      <td>1.6 л / 74 л.с. / Бензин</td>\n",
              "      <td>888.0</td>\n",
              "      <td>механическая</td>\n",
              "      <td>задний</td>\n",
              "      <td>Левый</td>\n",
              "      <td>Не требует ремонта</td>\n",
              "      <td>2.0</td>\n",
              "      <td>Оригинал</td>\n",
              "      <td>Растаможен</td>\n",
              "      <td>23 ноября</td>\n",
              "      <td>553.0</td>\n",
              "      <td>Читаем внимательно.</td>\n",
              "    </tr>\n",
              "    <tr>\n",
              "      <th>4</th>\n",
              "      <td>Mercedes-Benz GLK-Класс 300 I (X204)</td>\n",
              "      <td>1050000.0</td>\n",
              "      <td>Дилер всегда на связи</td>\n",
              "      <td>2010.0</td>\n",
              "      <td>145000.0</td>\n",
              "      <td>внедорожник 5 дв.</td>\n",
              "      <td>бежевый</td>\n",
              "      <td>3.0 л / 231 л.с. / Бензин</td>\n",
              "      <td>17325.0</td>\n",
              "      <td>автоматическая</td>\n",
              "      <td>полный</td>\n",
              "      <td>Левый</td>\n",
              "      <td>Не требует ремонта</td>\n",
              "      <td>2.0</td>\n",
              "      <td>Оригинал</td>\n",
              "      <td>Растаможен</td>\n",
              "      <td>26 ноября</td>\n",
              "      <td>242.0</td>\n",
              "      <td>Автомобиль находится в отличном состоянии. Все...</td>\n",
              "    </tr>\n",
              "  </tbody>\n",
              "</table>\n",
              "</div>"
            ],
            "text/plain": [
              "                                      name  ...                                            comment\n",
              "0  Jeep Grand Cherokee IV (WK2) Рестайлинг  ...  Автомобиль покупался в США комплектация S Limi...\n",
              "1  Jeep Grand Cherokee IV (WK2) Рестайлинг  ...  Автомобиль покупался в США комплектация S Limi...\n",
              "2                          LADA (ВАЗ) 2107  ...                                Читаем внимательно.\n",
              "3                          LADA (ВАЗ) 2107  ...                                Читаем внимательно.\n",
              "4     Mercedes-Benz GLK-Класс 300 I (X204)  ...  Автомобиль находится в отличном состоянии. Все...\n",
              "\n",
              "[5 rows x 19 columns]"
            ]
          },
          "metadata": {},
          "execution_count": 5
        }
      ]
    },
    {
      "cell_type": "code",
      "metadata": {
        "colab": {
          "base_uri": "https://localhost:8080/"
        },
        "id": "VkTBMcdVe0lE",
        "outputId": "76c05d5b-aa5e-45df-8b48-888160e12aba"
      },
      "source": [
        "# посмотрим на тип\n",
        "df.dtypes"
      ],
      "execution_count": 6,
      "outputs": [
        {
          "output_type": "execute_result",
          "data": {
            "text/plain": [
              "name             object\n",
              "price           float64\n",
              "crash            object\n",
              "year            float64\n",
              "run             float64\n",
              "back             object\n",
              "color            object\n",
              "engine           object\n",
              "tax             float64\n",
              "transmission     object\n",
              "drive            object\n",
              "rudder           object\n",
              "condition        object\n",
              "owners          float64\n",
              "pasport          object\n",
              "customs          object\n",
              "cr_date          object\n",
              "views           float64\n",
              "comment          object\n",
              "dtype: object"
            ]
          },
          "metadata": {},
          "execution_count": 6
        }
      ]
    },
    {
      "cell_type": "code",
      "metadata": {
        "id": "mTbsLBGklM75"
      },
      "source": [
        "# избавимся от дублирования\n",
        "df = df.drop_duplicates()"
      ],
      "execution_count": 7,
      "outputs": []
    },
    {
      "cell_type": "code",
      "metadata": {
        "colab": {
          "base_uri": "https://localhost:8080/"
        },
        "id": "7D4VRsyPl4Ik",
        "outputId": "64d06a76-0a80-443c-a058-f1cc7d8b027b"
      },
      "source": [
        "# Посмотрим на колонку даты создания в ней отсутсвует год, но не везде\n",
        "df.cr_date.str.contains('20\\d\\d', regex=True).value_counts()"
      ],
      "execution_count": 8,
      "outputs": [
        {
          "output_type": "execute_result",
          "data": {
            "text/plain": [
              "False    15761\n",
              "True         9\n",
              "Name: cr_date, dtype: int64"
            ]
          },
          "metadata": {},
          "execution_count": 8
        }
      ]
    },
    {
      "cell_type": "code",
      "metadata": {
        "id": "hC-OFWj0mX7w"
      },
      "source": [
        "# Добавим 2021 год\n",
        "df.cr_date.loc[(df.cr_date.str.contains('20\\d\\d', regex=True) == False)] = df[(df.cr_date.str.contains('20\\d\\d', regex=True) == False)].cr_date.apply(lambda x: '{}{}'.format(x, ' 2021'))\n"
      ],
      "execution_count": 9,
      "outputs": []
    },
    {
      "cell_type": "code",
      "metadata": {
        "colab": {
          "base_uri": "https://localhost:8080/"
        },
        "id": "WQ1VSKf1oPIB",
        "outputId": "a8cd4059-c192-4a69-fb61-6b641778cafa"
      },
      "source": [
        "# Проверим\n",
        "df.cr_date.value_counts()"
      ],
      "execution_count": 10,
      "outputs": [
        {
          "output_type": "execute_result",
          "data": {
            "text/plain": [
              "27 ноября 2021      6588\n",
              "28 ноября 2021      3772\n",
              "26 ноября 2021      2590\n",
              "25 ноября 2021      1044\n",
              "24 ноября 2021       679\n",
              "23 ноября 2021       339\n",
              "22 ноября 2021       232\n",
              "21 ноября 2021       211\n",
              "20 ноября 2021       109\n",
              "19 ноября 2021        24\n",
              "2 октября 2021        20\n",
              "1 августа 2021        20\n",
              "22 октября 2021       14\n",
              "18 ноября 2021        13\n",
              "25 июля 2021           8\n",
              "16 ноября 2021         8\n",
              "17 августа 2019        7\n",
              "17 ноября 2021         7\n",
              "11 ноября 2021         6\n",
              "23 сентября 2021       6\n",
              "26 октября 2021        5\n",
              "27 сентября 2021       5\n",
              "5 ноября 2021          5\n",
              "28 октября 2021        4\n",
              "14 ноября 2021         4\n",
              "1 ноября 2021          3\n",
              "14 октября 2021        3\n",
              "22 июля 2021           3\n",
              "16 октября 2021        3\n",
              "15 ноября 2021         3\n",
              "15 октября 2021        3\n",
              "26 марта 2020          2\n",
              "13 ноября 2021         2\n",
              "18 октября 2021        2\n",
              "7 сентября 2021        2\n",
              "9 ноября 2021          2\n",
              "30 сентября 2021       2\n",
              "4 ноября 2021          2\n",
              "23 октября 2021        2\n",
              "7 июля 2021            2\n",
              "29 октября 2021        2\n",
              "25 августа 2021        2\n",
              "7 ноября 2021          1\n",
              "9 марта 2021           1\n",
              "19 апреля 2021         1\n",
              "8 ноября 2021          1\n",
              "10 ноября 2021         1\n",
              "20 сентября 2021       1\n",
              "13 сентября 2021       1\n",
              "31 октября 2021        1\n",
              "21 июля 2021           1\n",
              "6 ноября 2021          1\n",
              "Name: cr_date, dtype: int64"
            ]
          },
          "metadata": {},
          "execution_count": 10
        }
      ]
    },
    {
      "cell_type": "code",
      "metadata": {
        "colab": {
          "base_uri": "https://localhost:8080/"
        },
        "id": "Q7YfKaXC4hdQ",
        "outputId": "653057fa-f1e4-43d1-f981-213000497593"
      },
      "source": [
        "# удалим пустую строку\n",
        "ind_em = df.loc[df.cr_date.isna() == True].index\n",
        "ind_em[0]"
      ],
      "execution_count": 11,
      "outputs": [
        {
          "output_type": "execute_result",
          "data": {
            "text/plain": [
              "10371"
            ]
          },
          "metadata": {},
          "execution_count": 11
        }
      ]
    },
    {
      "cell_type": "code",
      "metadata": {
        "id": "c94dd81l7G3V"
      },
      "source": [
        "df = df.drop(index=ind_em[0])"
      ],
      "execution_count": 12,
      "outputs": []
    },
    {
      "cell_type": "code",
      "metadata": {
        "colab": {
          "base_uri": "https://localhost:8080/"
        },
        "id": "MMdkdgf37cBB",
        "outputId": "0b635b86-40f9-4002-997b-b925adb38b89"
      },
      "source": [
        "# проверяем\n",
        "df.shape"
      ],
      "execution_count": 13,
      "outputs": [
        {
          "output_type": "execute_result",
          "data": {
            "text/plain": [
              "(15770, 19)"
            ]
          },
          "metadata": {},
          "execution_count": 13
        }
      ]
    },
    {
      "cell_type": "code",
      "metadata": {
        "colab": {
          "base_uri": "https://localhost:8080/"
        },
        "id": "uE-woBFf86Dj",
        "outputId": "6174144e-ba72-48c6-e0f8-074977ef43e8"
      },
      "source": [
        "# удалим строки в которых все значения пропущены\n",
        "df.dropna(how='all')\n",
        "df.shape"
      ],
      "execution_count": 14,
      "outputs": [
        {
          "output_type": "execute_result",
          "data": {
            "text/plain": [
              "(15770, 19)"
            ]
          },
          "metadata": {},
          "execution_count": 14
        }
      ]
    },
    {
      "cell_type": "code",
      "metadata": {
        "colab": {
          "base_uri": "https://localhost:8080/"
        },
        "id": "tYd9F9Xh2ART",
        "outputId": "88f9f179-9693-43d6-81d0-5c52f4d5e0a3"
      },
      "source": [
        "# заменим строковый формат мецяца на числовой\n",
        "month = {\t'января' : '01',\n",
        "\t\t      'февраля' : '02',\n",
        "\t\t      'марта' : '03',\n",
        "\t\t      'апреля' : '04',\n",
        "\t\t      'мая' : '05',\n",
        "\t\t      'июня' : '06',\n",
        "\t\t      'июля' : '07',\n",
        "\t\t      'августа' : '08',\n",
        "\t\t      'сентября' : '09',\n",
        "\t\t      'октября' : '10',\n",
        "\t\t      'ноября' : '11',\n",
        "\t\t      'декабря' : '12'}\n",
        "for key in month.keys():\n",
        "  df.cr_date.loc[df.cr_date.str.contains(key)] = df.cr_date.str.replace(key, month[key])"
      ],
      "execution_count": 15,
      "outputs": [
        {
          "output_type": "stream",
          "name": "stderr",
          "text": [
            "/usr/local/lib/python3.7/dist-packages/pandas/core/indexing.py:670: SettingWithCopyWarning: \n",
            "A value is trying to be set on a copy of a slice from a DataFrame\n",
            "\n",
            "See the caveats in the documentation: https://pandas.pydata.org/pandas-docs/stable/user_guide/indexing.html#returning-a-view-versus-a-copy\n",
            "  iloc._setitem_with_indexer(indexer, value)\n"
          ]
        }
      ]
    },
    {
      "cell_type": "code",
      "metadata": {
        "colab": {
          "base_uri": "https://localhost:8080/"
        },
        "id": "fSQa_uc9uOb9",
        "outputId": "e4ee4526-c5ef-47a2-8541-fdf7652fb23b"
      },
      "source": [
        "df.cr_date.value_counts()"
      ],
      "execution_count": 16,
      "outputs": [
        {
          "output_type": "execute_result",
          "data": {
            "text/plain": [
              "27 11 2021    6588\n",
              "28 11 2021    3772\n",
              "26 11 2021    2590\n",
              "25 11 2021    1044\n",
              "24 11 2021     679\n",
              "23 11 2021     339\n",
              "22 11 2021     232\n",
              "21 11 2021     211\n",
              "20 11 2021     109\n",
              "19 11 2021      24\n",
              "2 10 2021       20\n",
              "1 08 2021       20\n",
              "22 10 2021      14\n",
              "18 11 2021      13\n",
              "25 07 2021       8\n",
              "16 11 2021       8\n",
              "17 08 2019       7\n",
              "17 11 2021       7\n",
              "11 11 2021       6\n",
              "23 09 2021       6\n",
              "26 10 2021       5\n",
              "27 09 2021       5\n",
              "5 11 2021        5\n",
              "14 11 2021       4\n",
              "28 10 2021       4\n",
              "1 11 2021        3\n",
              "15 11 2021       3\n",
              "14 10 2021       3\n",
              "22 07 2021       3\n",
              "16 10 2021       3\n",
              "15 10 2021       3\n",
              "4 11 2021        2\n",
              "30 09 2021       2\n",
              "7 09 2021        2\n",
              "7 07 2021        2\n",
              "13 11 2021       2\n",
              "25 08 2021       2\n",
              "29 10 2021       2\n",
              "23 10 2021       2\n",
              "26 03 2020       2\n",
              "9 11 2021        2\n",
              "18 10 2021       2\n",
              "31 10 2021       1\n",
              "8 11 2021        1\n",
              "9 03 2021        1\n",
              "21 07 2021       1\n",
              "13 09 2021       1\n",
              "10 11 2021       1\n",
              "20 09 2021       1\n",
              "19 04 2021       1\n",
              "6 11 2021        1\n",
              "7 11 2021        1\n",
              "Name: cr_date, dtype: int64"
            ]
          },
          "metadata": {},
          "execution_count": 16
        }
      ]
    },
    {
      "cell_type": "code",
      "metadata": {
        "id": "B_RG-63QrWch"
      },
      "source": [
        "# Преобразуем колонку cr_date в формат даты\n",
        "df.cr_date = pd.to_datetime(df.cr_date, errors='coerce', dayfirst=True)"
      ],
      "execution_count": 17,
      "outputs": []
    },
    {
      "cell_type": "code",
      "metadata": {
        "colab": {
          "base_uri": "https://localhost:8080/"
        },
        "id": "Suq4VusU79oE",
        "outputId": "357333c1-20e7-49fd-de1e-2379f23bdb8f"
      },
      "source": [
        "# Проверим\n",
        "df.dtypes"
      ],
      "execution_count": 18,
      "outputs": [
        {
          "output_type": "execute_result",
          "data": {
            "text/plain": [
              "name                    object\n",
              "price                  float64\n",
              "crash                   object\n",
              "year                   float64\n",
              "run                    float64\n",
              "back                    object\n",
              "color                   object\n",
              "engine                  object\n",
              "tax                    float64\n",
              "transmission            object\n",
              "drive                   object\n",
              "rudder                  object\n",
              "condition               object\n",
              "owners                 float64\n",
              "pasport                 object\n",
              "customs                 object\n",
              "cr_date         datetime64[ns]\n",
              "views                  float64\n",
              "comment                 object\n",
              "dtype: object"
            ]
          },
          "metadata": {},
          "execution_count": 18
        }
      ]
    },
    {
      "cell_type": "code",
      "metadata": {
        "colab": {
          "base_uri": "https://localhost:8080/",
          "height": 513
        },
        "id": "NZhqm7FY8Eln",
        "outputId": "7e5b80bf-bbda-4637-f6ef-e7e0a166031c"
      },
      "source": [
        "df.head()"
      ],
      "execution_count": 19,
      "outputs": [
        {
          "output_type": "execute_result",
          "data": {
            "text/html": [
              "<div>\n",
              "<style scoped>\n",
              "    .dataframe tbody tr th:only-of-type {\n",
              "        vertical-align: middle;\n",
              "    }\n",
              "\n",
              "    .dataframe tbody tr th {\n",
              "        vertical-align: top;\n",
              "    }\n",
              "\n",
              "    .dataframe thead th {\n",
              "        text-align: right;\n",
              "    }\n",
              "</style>\n",
              "<table border=\"1\" class=\"dataframe\">\n",
              "  <thead>\n",
              "    <tr style=\"text-align: right;\">\n",
              "      <th></th>\n",
              "      <th>name</th>\n",
              "      <th>price</th>\n",
              "      <th>crash</th>\n",
              "      <th>year</th>\n",
              "      <th>run</th>\n",
              "      <th>back</th>\n",
              "      <th>color</th>\n",
              "      <th>engine</th>\n",
              "      <th>tax</th>\n",
              "      <th>transmission</th>\n",
              "      <th>drive</th>\n",
              "      <th>rudder</th>\n",
              "      <th>condition</th>\n",
              "      <th>owners</th>\n",
              "      <th>pasport</th>\n",
              "      <th>customs</th>\n",
              "      <th>cr_date</th>\n",
              "      <th>views</th>\n",
              "      <th>comment</th>\n",
              "    </tr>\n",
              "  </thead>\n",
              "  <tbody>\n",
              "    <tr>\n",
              "      <th>0</th>\n",
              "      <td>Jeep Grand Cherokee IV (WK2) Рестайлинг</td>\n",
              "      <td>4070000.0</td>\n",
              "      <td>Онлайн-показ</td>\n",
              "      <td>2018.0</td>\n",
              "      <td>56500.0</td>\n",
              "      <td>внедорожник 5 дв.</td>\n",
              "      <td>серебристый</td>\n",
              "      <td>3.0 л / 243 л.с. / Дизель</td>\n",
              "      <td>18225.0</td>\n",
              "      <td>автоматическая</td>\n",
              "      <td>полный</td>\n",
              "      <td>Левый</td>\n",
              "      <td>Не требует ремонта</td>\n",
              "      <td>1.0</td>\n",
              "      <td>Оригинал</td>\n",
              "      <td>Растаможен</td>\n",
              "      <td>2021-11-20</td>\n",
              "      <td>2482.0</td>\n",
              "      <td>Автомобиль покупался в США комплектация S Limi...</td>\n",
              "    </tr>\n",
              "    <tr>\n",
              "      <th>2</th>\n",
              "      <td>LADA (ВАЗ) 2107</td>\n",
              "      <td>129000.0</td>\n",
              "      <td>ДТП не найдены</td>\n",
              "      <td>2005.0</td>\n",
              "      <td>77000.0</td>\n",
              "      <td>седан</td>\n",
              "      <td>зелёный</td>\n",
              "      <td>1.6 л / 74 л.с. / Бензин</td>\n",
              "      <td>888.0</td>\n",
              "      <td>механическая</td>\n",
              "      <td>задний</td>\n",
              "      <td>Левый</td>\n",
              "      <td>Не требует ремонта</td>\n",
              "      <td>2.0</td>\n",
              "      <td>Оригинал</td>\n",
              "      <td>Растаможен</td>\n",
              "      <td>2021-11-23</td>\n",
              "      <td>553.0</td>\n",
              "      <td>Читаем внимательно.</td>\n",
              "    </tr>\n",
              "    <tr>\n",
              "      <th>4</th>\n",
              "      <td>Mercedes-Benz GLK-Класс 300 I (X204)</td>\n",
              "      <td>1050000.0</td>\n",
              "      <td>Дилер всегда на связи</td>\n",
              "      <td>2010.0</td>\n",
              "      <td>145000.0</td>\n",
              "      <td>внедорожник 5 дв.</td>\n",
              "      <td>бежевый</td>\n",
              "      <td>3.0 л / 231 л.с. / Бензин</td>\n",
              "      <td>17325.0</td>\n",
              "      <td>автоматическая</td>\n",
              "      <td>полный</td>\n",
              "      <td>Левый</td>\n",
              "      <td>Не требует ремонта</td>\n",
              "      <td>2.0</td>\n",
              "      <td>Оригинал</td>\n",
              "      <td>Растаможен</td>\n",
              "      <td>2021-11-26</td>\n",
              "      <td>242.0</td>\n",
              "      <td>Автомобиль находится в отличном состоянии. Все...</td>\n",
              "    </tr>\n",
              "    <tr>\n",
              "      <th>6</th>\n",
              "      <td>Mercedes-Benz A-Класс 140 I (W168)</td>\n",
              "      <td>199000.0</td>\n",
              "      <td>ДТП не найдены</td>\n",
              "      <td>2000.0</td>\n",
              "      <td>220000.0</td>\n",
              "      <td>хэтчбек 5 дв.</td>\n",
              "      <td>синий</td>\n",
              "      <td>1.4 л / 82 л.с. / Бензин</td>\n",
              "      <td>984.0</td>\n",
              "      <td>механическая</td>\n",
              "      <td>передний</td>\n",
              "      <td>Левый</td>\n",
              "      <td>Не требует ремонта</td>\n",
              "      <td>3.0</td>\n",
              "      <td>Дубликат</td>\n",
              "      <td>Растаможен</td>\n",
              "      <td>2021-11-27</td>\n",
              "      <td>17.0</td>\n",
              "      <td>Добрый день! Выставляется на продажу Mercedes ...</td>\n",
              "    </tr>\n",
              "    <tr>\n",
              "      <th>8</th>\n",
              "      <td>BMW X1 20i I (E84) Рестайлинг</td>\n",
              "      <td>1098000.0</td>\n",
              "      <td>Продлённая гарантия</td>\n",
              "      <td>2012.0</td>\n",
              "      <td>167193.0</td>\n",
              "      <td>внедорожник 5 дв.</td>\n",
              "      <td>оранжевый</td>\n",
              "      <td>2.0 л / 184 л.с. / Бензин</td>\n",
              "      <td>9200.0</td>\n",
              "      <td>автоматическая</td>\n",
              "      <td>полный</td>\n",
              "      <td>Левый</td>\n",
              "      <td>Не требует ремонта</td>\n",
              "      <td>3.0</td>\n",
              "      <td>Оригинал</td>\n",
              "      <td>Растаможен</td>\n",
              "      <td>2021-11-27</td>\n",
              "      <td>8.0</td>\n",
              "      <td>10 000 подарков за покупку автомобиля с пробег...</td>\n",
              "    </tr>\n",
              "  </tbody>\n",
              "</table>\n",
              "</div>"
            ],
            "text/plain": [
              "                                      name  ...                                            comment\n",
              "0  Jeep Grand Cherokee IV (WK2) Рестайлинг  ...  Автомобиль покупался в США комплектация S Limi...\n",
              "2                          LADA (ВАЗ) 2107  ...                                Читаем внимательно.\n",
              "4     Mercedes-Benz GLK-Класс 300 I (X204)  ...  Автомобиль находится в отличном состоянии. Все...\n",
              "6       Mercedes-Benz A-Класс 140 I (W168)  ...  Добрый день! Выставляется на продажу Mercedes ...\n",
              "8            BMW X1 20i I (E84) Рестайлинг  ...  10 000 подарков за покупку автомобиля с пробег...\n",
              "\n",
              "[5 rows x 19 columns]"
            ]
          },
          "metadata": {},
          "execution_count": 19
        }
      ]
    },
    {
      "cell_type": "code",
      "metadata": {
        "colab": {
          "base_uri": "https://localhost:8080/",
          "height": 513
        },
        "id": "-z_ydjUR9mqt",
        "outputId": "b4f21067-8e9f-40ee-f798-97686f96ddc5"
      },
      "source": [
        "# Разделим колонку engine\n",
        "df.engine = df.engine.str.split('/')\n",
        "df.head()"
      ],
      "execution_count": 20,
      "outputs": [
        {
          "output_type": "execute_result",
          "data": {
            "text/html": [
              "<div>\n",
              "<style scoped>\n",
              "    .dataframe tbody tr th:only-of-type {\n",
              "        vertical-align: middle;\n",
              "    }\n",
              "\n",
              "    .dataframe tbody tr th {\n",
              "        vertical-align: top;\n",
              "    }\n",
              "\n",
              "    .dataframe thead th {\n",
              "        text-align: right;\n",
              "    }\n",
              "</style>\n",
              "<table border=\"1\" class=\"dataframe\">\n",
              "  <thead>\n",
              "    <tr style=\"text-align: right;\">\n",
              "      <th></th>\n",
              "      <th>name</th>\n",
              "      <th>price</th>\n",
              "      <th>crash</th>\n",
              "      <th>year</th>\n",
              "      <th>run</th>\n",
              "      <th>back</th>\n",
              "      <th>color</th>\n",
              "      <th>engine</th>\n",
              "      <th>tax</th>\n",
              "      <th>transmission</th>\n",
              "      <th>drive</th>\n",
              "      <th>rudder</th>\n",
              "      <th>condition</th>\n",
              "      <th>owners</th>\n",
              "      <th>pasport</th>\n",
              "      <th>customs</th>\n",
              "      <th>cr_date</th>\n",
              "      <th>views</th>\n",
              "      <th>comment</th>\n",
              "    </tr>\n",
              "  </thead>\n",
              "  <tbody>\n",
              "    <tr>\n",
              "      <th>0</th>\n",
              "      <td>Jeep Grand Cherokee IV (WK2) Рестайлинг</td>\n",
              "      <td>4070000.0</td>\n",
              "      <td>Онлайн-показ</td>\n",
              "      <td>2018.0</td>\n",
              "      <td>56500.0</td>\n",
              "      <td>внедорожник 5 дв.</td>\n",
              "      <td>серебристый</td>\n",
              "      <td>[3.0 л ,  243 л.с. ,  Дизель]</td>\n",
              "      <td>18225.0</td>\n",
              "      <td>автоматическая</td>\n",
              "      <td>полный</td>\n",
              "      <td>Левый</td>\n",
              "      <td>Не требует ремонта</td>\n",
              "      <td>1.0</td>\n",
              "      <td>Оригинал</td>\n",
              "      <td>Растаможен</td>\n",
              "      <td>2021-11-20</td>\n",
              "      <td>2482.0</td>\n",
              "      <td>Автомобиль покупался в США комплектация S Limi...</td>\n",
              "    </tr>\n",
              "    <tr>\n",
              "      <th>2</th>\n",
              "      <td>LADA (ВАЗ) 2107</td>\n",
              "      <td>129000.0</td>\n",
              "      <td>ДТП не найдены</td>\n",
              "      <td>2005.0</td>\n",
              "      <td>77000.0</td>\n",
              "      <td>седан</td>\n",
              "      <td>зелёный</td>\n",
              "      <td>[1.6 л ,  74 л.с. ,  Бензин]</td>\n",
              "      <td>888.0</td>\n",
              "      <td>механическая</td>\n",
              "      <td>задний</td>\n",
              "      <td>Левый</td>\n",
              "      <td>Не требует ремонта</td>\n",
              "      <td>2.0</td>\n",
              "      <td>Оригинал</td>\n",
              "      <td>Растаможен</td>\n",
              "      <td>2021-11-23</td>\n",
              "      <td>553.0</td>\n",
              "      <td>Читаем внимательно.</td>\n",
              "    </tr>\n",
              "    <tr>\n",
              "      <th>4</th>\n",
              "      <td>Mercedes-Benz GLK-Класс 300 I (X204)</td>\n",
              "      <td>1050000.0</td>\n",
              "      <td>Дилер всегда на связи</td>\n",
              "      <td>2010.0</td>\n",
              "      <td>145000.0</td>\n",
              "      <td>внедорожник 5 дв.</td>\n",
              "      <td>бежевый</td>\n",
              "      <td>[3.0 л ,  231 л.с. ,  Бензин]</td>\n",
              "      <td>17325.0</td>\n",
              "      <td>автоматическая</td>\n",
              "      <td>полный</td>\n",
              "      <td>Левый</td>\n",
              "      <td>Не требует ремонта</td>\n",
              "      <td>2.0</td>\n",
              "      <td>Оригинал</td>\n",
              "      <td>Растаможен</td>\n",
              "      <td>2021-11-26</td>\n",
              "      <td>242.0</td>\n",
              "      <td>Автомобиль находится в отличном состоянии. Все...</td>\n",
              "    </tr>\n",
              "    <tr>\n",
              "      <th>6</th>\n",
              "      <td>Mercedes-Benz A-Класс 140 I (W168)</td>\n",
              "      <td>199000.0</td>\n",
              "      <td>ДТП не найдены</td>\n",
              "      <td>2000.0</td>\n",
              "      <td>220000.0</td>\n",
              "      <td>хэтчбек 5 дв.</td>\n",
              "      <td>синий</td>\n",
              "      <td>[1.4 л ,  82 л.с. ,  Бензин]</td>\n",
              "      <td>984.0</td>\n",
              "      <td>механическая</td>\n",
              "      <td>передний</td>\n",
              "      <td>Левый</td>\n",
              "      <td>Не требует ремонта</td>\n",
              "      <td>3.0</td>\n",
              "      <td>Дубликат</td>\n",
              "      <td>Растаможен</td>\n",
              "      <td>2021-11-27</td>\n",
              "      <td>17.0</td>\n",
              "      <td>Добрый день! Выставляется на продажу Mercedes ...</td>\n",
              "    </tr>\n",
              "    <tr>\n",
              "      <th>8</th>\n",
              "      <td>BMW X1 20i I (E84) Рестайлинг</td>\n",
              "      <td>1098000.0</td>\n",
              "      <td>Продлённая гарантия</td>\n",
              "      <td>2012.0</td>\n",
              "      <td>167193.0</td>\n",
              "      <td>внедорожник 5 дв.</td>\n",
              "      <td>оранжевый</td>\n",
              "      <td>[2.0 л ,  184 л.с. ,  Бензин]</td>\n",
              "      <td>9200.0</td>\n",
              "      <td>автоматическая</td>\n",
              "      <td>полный</td>\n",
              "      <td>Левый</td>\n",
              "      <td>Не требует ремонта</td>\n",
              "      <td>3.0</td>\n",
              "      <td>Оригинал</td>\n",
              "      <td>Растаможен</td>\n",
              "      <td>2021-11-27</td>\n",
              "      <td>8.0</td>\n",
              "      <td>10 000 подарков за покупку автомобиля с пробег...</td>\n",
              "    </tr>\n",
              "  </tbody>\n",
              "</table>\n",
              "</div>"
            ],
            "text/plain": [
              "                                      name  ...                                            comment\n",
              "0  Jeep Grand Cherokee IV (WK2) Рестайлинг  ...  Автомобиль покупался в США комплектация S Limi...\n",
              "2                          LADA (ВАЗ) 2107  ...                                Читаем внимательно.\n",
              "4     Mercedes-Benz GLK-Класс 300 I (X204)  ...  Автомобиль находится в отличном состоянии. Все...\n",
              "6       Mercedes-Benz A-Класс 140 I (W168)  ...  Добрый день! Выставляется на продажу Mercedes ...\n",
              "8            BMW X1 20i I (E84) Рестайлинг  ...  10 000 подарков за покупку автомобиля с пробег...\n",
              "\n",
              "[5 rows x 19 columns]"
            ]
          },
          "metadata": {},
          "execution_count": 20
        }
      ]
    },
    {
      "cell_type": "code",
      "metadata": {
        "colab": {
          "base_uri": "https://localhost:8080/",
          "height": 513
        },
        "id": "nXfuMU1Y8pdJ",
        "outputId": "c3b6b253-d4a5-4c58-a858-f10bf4ea0a5a"
      },
      "source": [
        "# разобьем колонку engine на 3 суб колонки \"Объем\", \"Л.С.\", \"Тип Двигателя\"\n",
        "df[['engine_volume', 'horsepower', 'engine_type']] = pd.DataFrame(df.engine.tolist(), index=df.index)\n",
        "df.head()"
      ],
      "execution_count": 21,
      "outputs": [
        {
          "output_type": "execute_result",
          "data": {
            "text/html": [
              "<div>\n",
              "<style scoped>\n",
              "    .dataframe tbody tr th:only-of-type {\n",
              "        vertical-align: middle;\n",
              "    }\n",
              "\n",
              "    .dataframe tbody tr th {\n",
              "        vertical-align: top;\n",
              "    }\n",
              "\n",
              "    .dataframe thead th {\n",
              "        text-align: right;\n",
              "    }\n",
              "</style>\n",
              "<table border=\"1\" class=\"dataframe\">\n",
              "  <thead>\n",
              "    <tr style=\"text-align: right;\">\n",
              "      <th></th>\n",
              "      <th>name</th>\n",
              "      <th>price</th>\n",
              "      <th>crash</th>\n",
              "      <th>year</th>\n",
              "      <th>run</th>\n",
              "      <th>back</th>\n",
              "      <th>color</th>\n",
              "      <th>engine</th>\n",
              "      <th>tax</th>\n",
              "      <th>transmission</th>\n",
              "      <th>drive</th>\n",
              "      <th>rudder</th>\n",
              "      <th>condition</th>\n",
              "      <th>owners</th>\n",
              "      <th>pasport</th>\n",
              "      <th>customs</th>\n",
              "      <th>cr_date</th>\n",
              "      <th>views</th>\n",
              "      <th>comment</th>\n",
              "      <th>engine_volume</th>\n",
              "      <th>horsepower</th>\n",
              "      <th>engine_type</th>\n",
              "    </tr>\n",
              "  </thead>\n",
              "  <tbody>\n",
              "    <tr>\n",
              "      <th>0</th>\n",
              "      <td>Jeep Grand Cherokee IV (WK2) Рестайлинг</td>\n",
              "      <td>4070000.0</td>\n",
              "      <td>Онлайн-показ</td>\n",
              "      <td>2018.0</td>\n",
              "      <td>56500.0</td>\n",
              "      <td>внедорожник 5 дв.</td>\n",
              "      <td>серебристый</td>\n",
              "      <td>[3.0 л ,  243 л.с. ,  Дизель]</td>\n",
              "      <td>18225.0</td>\n",
              "      <td>автоматическая</td>\n",
              "      <td>полный</td>\n",
              "      <td>Левый</td>\n",
              "      <td>Не требует ремонта</td>\n",
              "      <td>1.0</td>\n",
              "      <td>Оригинал</td>\n",
              "      <td>Растаможен</td>\n",
              "      <td>2021-11-20</td>\n",
              "      <td>2482.0</td>\n",
              "      <td>Автомобиль покупался в США комплектация S Limi...</td>\n",
              "      <td>3.0 л</td>\n",
              "      <td>243 л.с.</td>\n",
              "      <td>Дизель</td>\n",
              "    </tr>\n",
              "    <tr>\n",
              "      <th>2</th>\n",
              "      <td>LADA (ВАЗ) 2107</td>\n",
              "      <td>129000.0</td>\n",
              "      <td>ДТП не найдены</td>\n",
              "      <td>2005.0</td>\n",
              "      <td>77000.0</td>\n",
              "      <td>седан</td>\n",
              "      <td>зелёный</td>\n",
              "      <td>[1.6 л ,  74 л.с. ,  Бензин]</td>\n",
              "      <td>888.0</td>\n",
              "      <td>механическая</td>\n",
              "      <td>задний</td>\n",
              "      <td>Левый</td>\n",
              "      <td>Не требует ремонта</td>\n",
              "      <td>2.0</td>\n",
              "      <td>Оригинал</td>\n",
              "      <td>Растаможен</td>\n",
              "      <td>2021-11-23</td>\n",
              "      <td>553.0</td>\n",
              "      <td>Читаем внимательно.</td>\n",
              "      <td>1.6 л</td>\n",
              "      <td>74 л.с.</td>\n",
              "      <td>Бензин</td>\n",
              "    </tr>\n",
              "    <tr>\n",
              "      <th>4</th>\n",
              "      <td>Mercedes-Benz GLK-Класс 300 I (X204)</td>\n",
              "      <td>1050000.0</td>\n",
              "      <td>Дилер всегда на связи</td>\n",
              "      <td>2010.0</td>\n",
              "      <td>145000.0</td>\n",
              "      <td>внедорожник 5 дв.</td>\n",
              "      <td>бежевый</td>\n",
              "      <td>[3.0 л ,  231 л.с. ,  Бензин]</td>\n",
              "      <td>17325.0</td>\n",
              "      <td>автоматическая</td>\n",
              "      <td>полный</td>\n",
              "      <td>Левый</td>\n",
              "      <td>Не требует ремонта</td>\n",
              "      <td>2.0</td>\n",
              "      <td>Оригинал</td>\n",
              "      <td>Растаможен</td>\n",
              "      <td>2021-11-26</td>\n",
              "      <td>242.0</td>\n",
              "      <td>Автомобиль находится в отличном состоянии. Все...</td>\n",
              "      <td>3.0 л</td>\n",
              "      <td>231 л.с.</td>\n",
              "      <td>Бензин</td>\n",
              "    </tr>\n",
              "    <tr>\n",
              "      <th>6</th>\n",
              "      <td>Mercedes-Benz A-Класс 140 I (W168)</td>\n",
              "      <td>199000.0</td>\n",
              "      <td>ДТП не найдены</td>\n",
              "      <td>2000.0</td>\n",
              "      <td>220000.0</td>\n",
              "      <td>хэтчбек 5 дв.</td>\n",
              "      <td>синий</td>\n",
              "      <td>[1.4 л ,  82 л.с. ,  Бензин]</td>\n",
              "      <td>984.0</td>\n",
              "      <td>механическая</td>\n",
              "      <td>передний</td>\n",
              "      <td>Левый</td>\n",
              "      <td>Не требует ремонта</td>\n",
              "      <td>3.0</td>\n",
              "      <td>Дубликат</td>\n",
              "      <td>Растаможен</td>\n",
              "      <td>2021-11-27</td>\n",
              "      <td>17.0</td>\n",
              "      <td>Добрый день! Выставляется на продажу Mercedes ...</td>\n",
              "      <td>1.4 л</td>\n",
              "      <td>82 л.с.</td>\n",
              "      <td>Бензин</td>\n",
              "    </tr>\n",
              "    <tr>\n",
              "      <th>8</th>\n",
              "      <td>BMW X1 20i I (E84) Рестайлинг</td>\n",
              "      <td>1098000.0</td>\n",
              "      <td>Продлённая гарантия</td>\n",
              "      <td>2012.0</td>\n",
              "      <td>167193.0</td>\n",
              "      <td>внедорожник 5 дв.</td>\n",
              "      <td>оранжевый</td>\n",
              "      <td>[2.0 л ,  184 л.с. ,  Бензин]</td>\n",
              "      <td>9200.0</td>\n",
              "      <td>автоматическая</td>\n",
              "      <td>полный</td>\n",
              "      <td>Левый</td>\n",
              "      <td>Не требует ремонта</td>\n",
              "      <td>3.0</td>\n",
              "      <td>Оригинал</td>\n",
              "      <td>Растаможен</td>\n",
              "      <td>2021-11-27</td>\n",
              "      <td>8.0</td>\n",
              "      <td>10 000 подарков за покупку автомобиля с пробег...</td>\n",
              "      <td>2.0 л</td>\n",
              "      <td>184 л.с.</td>\n",
              "      <td>Бензин</td>\n",
              "    </tr>\n",
              "  </tbody>\n",
              "</table>\n",
              "</div>"
            ],
            "text/plain": [
              "                                      name      price  ...  horsepower  engine_type\n",
              "0  Jeep Grand Cherokee IV (WK2) Рестайлинг  4070000.0  ...   243 л.с.        Дизель\n",
              "2                          LADA (ВАЗ) 2107   129000.0  ...    74 л.с.        Бензин\n",
              "4     Mercedes-Benz GLK-Класс 300 I (X204)  1050000.0  ...   231 л.с.        Бензин\n",
              "6       Mercedes-Benz A-Класс 140 I (W168)   199000.0  ...    82 л.с.        Бензин\n",
              "8            BMW X1 20i I (E84) Рестайлинг  1098000.0  ...   184 л.с.        Бензин\n",
              "\n",
              "[5 rows x 22 columns]"
            ]
          },
          "metadata": {},
          "execution_count": 21
        }
      ]
    },
    {
      "cell_type": "code",
      "metadata": {
        "colab": {
          "base_uri": "https://localhost:8080/",
          "height": 419
        },
        "id": "mbF2PwyF-ifG",
        "outputId": "38eb6ec4-7fab-4b1f-c376-6993fd587add"
      },
      "source": [
        "# Разделим название на марку и модель\n",
        "df.name.str.split(' ', 1, expand=True)"
      ],
      "execution_count": 24,
      "outputs": [
        {
          "output_type": "execute_result",
          "data": {
            "text/html": [
              "<div>\n",
              "<style scoped>\n",
              "    .dataframe tbody tr th:only-of-type {\n",
              "        vertical-align: middle;\n",
              "    }\n",
              "\n",
              "    .dataframe tbody tr th {\n",
              "        vertical-align: top;\n",
              "    }\n",
              "\n",
              "    .dataframe thead th {\n",
              "        text-align: right;\n",
              "    }\n",
              "</style>\n",
              "<table border=\"1\" class=\"dataframe\">\n",
              "  <thead>\n",
              "    <tr style=\"text-align: right;\">\n",
              "      <th></th>\n",
              "      <th>0</th>\n",
              "      <th>1</th>\n",
              "    </tr>\n",
              "  </thead>\n",
              "  <tbody>\n",
              "    <tr>\n",
              "      <th>0</th>\n",
              "      <td>Jeep</td>\n",
              "      <td>Grand Cherokee IV (WK2) Рестайлинг</td>\n",
              "    </tr>\n",
              "    <tr>\n",
              "      <th>2</th>\n",
              "      <td>LADA</td>\n",
              "      <td>(ВАЗ) 2107</td>\n",
              "    </tr>\n",
              "    <tr>\n",
              "      <th>4</th>\n",
              "      <td>Mercedes-Benz</td>\n",
              "      <td>GLK-Класс 300 I (X204)</td>\n",
              "    </tr>\n",
              "    <tr>\n",
              "      <th>6</th>\n",
              "      <td>Mercedes-Benz</td>\n",
              "      <td>A-Класс 140 I (W168)</td>\n",
              "    </tr>\n",
              "    <tr>\n",
              "      <th>8</th>\n",
              "      <td>BMW</td>\n",
              "      <td>X1 20i I (E84) Рестайлинг</td>\n",
              "    </tr>\n",
              "    <tr>\n",
              "      <th>...</th>\n",
              "      <td>...</td>\n",
              "      <td>...</td>\n",
              "    </tr>\n",
              "    <tr>\n",
              "      <th>91116</th>\n",
              "      <td>Mercedes-Benz</td>\n",
              "      <td>E-Класс 200 V (W213, S213, C238)</td>\n",
              "    </tr>\n",
              "    <tr>\n",
              "      <th>91122</th>\n",
              "      <td>Mercedes-Benz</td>\n",
              "      <td>GLS 350 d I (X166)</td>\n",
              "    </tr>\n",
              "    <tr>\n",
              "      <th>91128</th>\n",
              "      <td>Mercedes-Benz</td>\n",
              "      <td>S-Класс AMG 63 AMG III (W222, C217)</td>\n",
              "    </tr>\n",
              "    <tr>\n",
              "      <th>91130</th>\n",
              "      <td>SsangYong</td>\n",
              "      <td>Actyon Sports I</td>\n",
              "    </tr>\n",
              "    <tr>\n",
              "      <th>91132</th>\n",
              "      <td>Volkswagen</td>\n",
              "      <td>Tiguan I Рестайлинг</td>\n",
              "    </tr>\n",
              "  </tbody>\n",
              "</table>\n",
              "<p>15770 rows × 2 columns</p>\n",
              "</div>"
            ],
            "text/plain": [
              "                   0                                    1\n",
              "0               Jeep   Grand Cherokee IV (WK2) Рестайлинг\n",
              "2               LADA                           (ВАЗ) 2107\n",
              "4      Mercedes-Benz               GLK-Класс 300 I (X204)\n",
              "6      Mercedes-Benz                 A-Класс 140 I (W168)\n",
              "8                BMW            X1 20i I (E84) Рестайлинг\n",
              "...              ...                                  ...\n",
              "91116  Mercedes-Benz     E-Класс 200 V (W213, S213, C238)\n",
              "91122  Mercedes-Benz                   GLS 350 d I (X166)\n",
              "91128  Mercedes-Benz  S-Класс AMG 63 AMG III (W222, C217)\n",
              "91130      SsangYong                      Actyon Sports I\n",
              "91132     Volkswagen                  Tiguan I Рестайлинг\n",
              "\n",
              "[15770 rows x 2 columns]"
            ]
          },
          "metadata": {},
          "execution_count": 24
        }
      ]
    },
    {
      "cell_type": "code",
      "metadata": {
        "colab": {
          "base_uri": "https://localhost:8080/",
          "height": 513
        },
        "id": "aG8MV-cT_yrz",
        "outputId": "a7f0b5ed-c1e6-4691-8239-7da40902f790"
      },
      "source": [
        "# Добавим столбец с мармами авто и столбец с моделями\n",
        "df['car_brand'] = df.name.str.split(' ', 1, expand=True)[0].values\n",
        "df['car_model'] = df.name.str.split(' ', 1, expand=True)[1].values\n",
        "df.head()"
      ],
      "execution_count": 25,
      "outputs": [
        {
          "output_type": "execute_result",
          "data": {
            "text/html": [
              "<div>\n",
              "<style scoped>\n",
              "    .dataframe tbody tr th:only-of-type {\n",
              "        vertical-align: middle;\n",
              "    }\n",
              "\n",
              "    .dataframe tbody tr th {\n",
              "        vertical-align: top;\n",
              "    }\n",
              "\n",
              "    .dataframe thead th {\n",
              "        text-align: right;\n",
              "    }\n",
              "</style>\n",
              "<table border=\"1\" class=\"dataframe\">\n",
              "  <thead>\n",
              "    <tr style=\"text-align: right;\">\n",
              "      <th></th>\n",
              "      <th>name</th>\n",
              "      <th>price</th>\n",
              "      <th>crash</th>\n",
              "      <th>year</th>\n",
              "      <th>run</th>\n",
              "      <th>back</th>\n",
              "      <th>color</th>\n",
              "      <th>engine</th>\n",
              "      <th>tax</th>\n",
              "      <th>transmission</th>\n",
              "      <th>drive</th>\n",
              "      <th>rudder</th>\n",
              "      <th>condition</th>\n",
              "      <th>owners</th>\n",
              "      <th>pasport</th>\n",
              "      <th>customs</th>\n",
              "      <th>cr_date</th>\n",
              "      <th>views</th>\n",
              "      <th>comment</th>\n",
              "      <th>engine_volume</th>\n",
              "      <th>horsepower</th>\n",
              "      <th>engine_type</th>\n",
              "      <th>car_brand</th>\n",
              "      <th>car_model</th>\n",
              "    </tr>\n",
              "  </thead>\n",
              "  <tbody>\n",
              "    <tr>\n",
              "      <th>0</th>\n",
              "      <td>Jeep Grand Cherokee IV (WK2) Рестайлинг</td>\n",
              "      <td>4070000.0</td>\n",
              "      <td>Онлайн-показ</td>\n",
              "      <td>2018.0</td>\n",
              "      <td>56500.0</td>\n",
              "      <td>внедорожник 5 дв.</td>\n",
              "      <td>серебристый</td>\n",
              "      <td>[3.0 л ,  243 л.с. ,  Дизель]</td>\n",
              "      <td>18225.0</td>\n",
              "      <td>автоматическая</td>\n",
              "      <td>полный</td>\n",
              "      <td>Левый</td>\n",
              "      <td>Не требует ремонта</td>\n",
              "      <td>1.0</td>\n",
              "      <td>Оригинал</td>\n",
              "      <td>Растаможен</td>\n",
              "      <td>2021-11-20</td>\n",
              "      <td>2482.0</td>\n",
              "      <td>Автомобиль покупался в США комплектация S Limi...</td>\n",
              "      <td>3.0 л</td>\n",
              "      <td>243 л.с.</td>\n",
              "      <td>Дизель</td>\n",
              "      <td>Jeep</td>\n",
              "      <td>Grand Cherokee IV (WK2) Рестайлинг</td>\n",
              "    </tr>\n",
              "    <tr>\n",
              "      <th>2</th>\n",
              "      <td>LADA (ВАЗ) 2107</td>\n",
              "      <td>129000.0</td>\n",
              "      <td>ДТП не найдены</td>\n",
              "      <td>2005.0</td>\n",
              "      <td>77000.0</td>\n",
              "      <td>седан</td>\n",
              "      <td>зелёный</td>\n",
              "      <td>[1.6 л ,  74 л.с. ,  Бензин]</td>\n",
              "      <td>888.0</td>\n",
              "      <td>механическая</td>\n",
              "      <td>задний</td>\n",
              "      <td>Левый</td>\n",
              "      <td>Не требует ремонта</td>\n",
              "      <td>2.0</td>\n",
              "      <td>Оригинал</td>\n",
              "      <td>Растаможен</td>\n",
              "      <td>2021-11-23</td>\n",
              "      <td>553.0</td>\n",
              "      <td>Читаем внимательно.</td>\n",
              "      <td>1.6 л</td>\n",
              "      <td>74 л.с.</td>\n",
              "      <td>Бензин</td>\n",
              "      <td>LADA</td>\n",
              "      <td>(ВАЗ) 2107</td>\n",
              "    </tr>\n",
              "    <tr>\n",
              "      <th>4</th>\n",
              "      <td>Mercedes-Benz GLK-Класс 300 I (X204)</td>\n",
              "      <td>1050000.0</td>\n",
              "      <td>Дилер всегда на связи</td>\n",
              "      <td>2010.0</td>\n",
              "      <td>145000.0</td>\n",
              "      <td>внедорожник 5 дв.</td>\n",
              "      <td>бежевый</td>\n",
              "      <td>[3.0 л ,  231 л.с. ,  Бензин]</td>\n",
              "      <td>17325.0</td>\n",
              "      <td>автоматическая</td>\n",
              "      <td>полный</td>\n",
              "      <td>Левый</td>\n",
              "      <td>Не требует ремонта</td>\n",
              "      <td>2.0</td>\n",
              "      <td>Оригинал</td>\n",
              "      <td>Растаможен</td>\n",
              "      <td>2021-11-26</td>\n",
              "      <td>242.0</td>\n",
              "      <td>Автомобиль находится в отличном состоянии. Все...</td>\n",
              "      <td>3.0 л</td>\n",
              "      <td>231 л.с.</td>\n",
              "      <td>Бензин</td>\n",
              "      <td>Mercedes-Benz</td>\n",
              "      <td>GLK-Класс 300 I (X204)</td>\n",
              "    </tr>\n",
              "    <tr>\n",
              "      <th>6</th>\n",
              "      <td>Mercedes-Benz A-Класс 140 I (W168)</td>\n",
              "      <td>199000.0</td>\n",
              "      <td>ДТП не найдены</td>\n",
              "      <td>2000.0</td>\n",
              "      <td>220000.0</td>\n",
              "      <td>хэтчбек 5 дв.</td>\n",
              "      <td>синий</td>\n",
              "      <td>[1.4 л ,  82 л.с. ,  Бензин]</td>\n",
              "      <td>984.0</td>\n",
              "      <td>механическая</td>\n",
              "      <td>передний</td>\n",
              "      <td>Левый</td>\n",
              "      <td>Не требует ремонта</td>\n",
              "      <td>3.0</td>\n",
              "      <td>Дубликат</td>\n",
              "      <td>Растаможен</td>\n",
              "      <td>2021-11-27</td>\n",
              "      <td>17.0</td>\n",
              "      <td>Добрый день! Выставляется на продажу Mercedes ...</td>\n",
              "      <td>1.4 л</td>\n",
              "      <td>82 л.с.</td>\n",
              "      <td>Бензин</td>\n",
              "      <td>Mercedes-Benz</td>\n",
              "      <td>A-Класс 140 I (W168)</td>\n",
              "    </tr>\n",
              "    <tr>\n",
              "      <th>8</th>\n",
              "      <td>BMW X1 20i I (E84) Рестайлинг</td>\n",
              "      <td>1098000.0</td>\n",
              "      <td>Продлённая гарантия</td>\n",
              "      <td>2012.0</td>\n",
              "      <td>167193.0</td>\n",
              "      <td>внедорожник 5 дв.</td>\n",
              "      <td>оранжевый</td>\n",
              "      <td>[2.0 л ,  184 л.с. ,  Бензин]</td>\n",
              "      <td>9200.0</td>\n",
              "      <td>автоматическая</td>\n",
              "      <td>полный</td>\n",
              "      <td>Левый</td>\n",
              "      <td>Не требует ремонта</td>\n",
              "      <td>3.0</td>\n",
              "      <td>Оригинал</td>\n",
              "      <td>Растаможен</td>\n",
              "      <td>2021-11-27</td>\n",
              "      <td>8.0</td>\n",
              "      <td>10 000 подарков за покупку автомобиля с пробег...</td>\n",
              "      <td>2.0 л</td>\n",
              "      <td>184 л.с.</td>\n",
              "      <td>Бензин</td>\n",
              "      <td>BMW</td>\n",
              "      <td>X1 20i I (E84) Рестайлинг</td>\n",
              "    </tr>\n",
              "  </tbody>\n",
              "</table>\n",
              "</div>"
            ],
            "text/plain": [
              "                                      name  ...                           car_model\n",
              "0  Jeep Grand Cherokee IV (WK2) Рестайлинг  ...  Grand Cherokee IV (WK2) Рестайлинг\n",
              "2                          LADA (ВАЗ) 2107  ...                          (ВАЗ) 2107\n",
              "4     Mercedes-Benz GLK-Класс 300 I (X204)  ...              GLK-Класс 300 I (X204)\n",
              "6       Mercedes-Benz A-Класс 140 I (W168)  ...                A-Класс 140 I (W168)\n",
              "8            BMW X1 20i I (E84) Рестайлинг  ...           X1 20i I (E84) Рестайлинг\n",
              "\n",
              "[5 rows x 24 columns]"
            ]
          },
          "metadata": {},
          "execution_count": 25
        }
      ]
    },
    {
      "cell_type": "code",
      "metadata": {
        "colab": {
          "base_uri": "https://localhost:8080/"
        },
        "id": "C0qPj_txFjqn",
        "outputId": "56fed6c0-e661-4117-8db1-333b241fe4ae"
      },
      "source": [
        "df.condition.value_counts()"
      ],
      "execution_count": 26,
      "outputs": [
        {
          "output_type": "execute_result",
          "data": {
            "text/plain": [
              "Не требует ремонта    15768\n",
              "Name: condition, dtype: int64"
            ]
          },
          "metadata": {},
          "execution_count": 26
        }
      ]
    },
    {
      "cell_type": "markdown",
      "metadata": {
        "id": "O00CmJUMzthy"
      },
      "source": [
        "### Мы подготовили датафрейм к анализу теперь выпишем признаки"
      ]
    },
    {
      "cell_type": "markdown",
      "metadata": {
        "id": "yByRshK0EzuI"
      },
      "source": [
        "Признаки:  \n",
        "- **price** - цена авто (рубли)\n",
        "- **crash** - информация о ДТП \n",
        "- **year** - год выпуска авто\n",
        "- **run** - пробег (км)\n",
        "- **back** - тип кузова\n",
        "- **color** - цвет\n",
        "- **tax** - налог\n",
        "- **transmission** - КПП (автоматическая, механическая, роботизированная, вариатор)\n",
        "- **drive** - привод (передний, полный, задний)\n",
        "- **rudder** - руль (левый, правый)\n",
        "- **condition** состояние (Не требует ремонта)\n",
        "- **owners** - количество владельцев\n",
        "- **pasport** - ПТС автомобиля\n",
        "- **customs** - растоможка\n",
        "- **cr_date** - дата публикации объявления \n",
        "- **views** - количество просмотров объявления\n",
        "- **comment** - комментарий продавца\n",
        "- **engine_volume** - объем двигателя\n",
        "- **horsepower** - лошадиные силы (л.с. / кВт)\n",
        "- **engine_type** - тип двигателя\n",
        "- **car_brand** - марка авто\n",
        "- **car_model** - модель авто\n",
        "\n",
        "<font color='red'>Данные собирались 27.11.2021)</font>"
      ]
    },
    {
      "cell_type": "code",
      "metadata": {
        "id": "CXN-itFzEyut"
      },
      "source": [
        "# заменим пропуски на 0\n",
        "df = df.fillna(0)"
      ],
      "execution_count": 28,
      "outputs": []
    },
    {
      "cell_type": "code",
      "metadata": {
        "id": "aQRkjJmmH94l"
      },
      "source": [
        "# сохраним DataFrame\n",
        "df.to_excel(path_to_save + '/' + 'AvtoRu_prep.xlsx', sheet_name='Cars')"
      ],
      "execution_count": 32,
      "outputs": []
    },
    {
      "cell_type": "code",
      "metadata": {
        "id": "myfnUU883D-s"
      },
      "source": [
        ""
      ],
      "execution_count": null,
      "outputs": []
    }
  ]
}